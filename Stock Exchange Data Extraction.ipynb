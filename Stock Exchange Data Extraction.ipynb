{
    "cells": [
        {
            "cell_type": "markdown",
            "metadata": {},
            "source": "<h1>Extracting Stock Data Using a Python Library</h1>\n"
        },
        {
            "cell_type": "code",
            "execution_count": 1,
            "metadata": {},
            "outputs": [
                {
                    "name": "stdout",
                    "output_type": "stream",
                    "text": "/opt/conda/envs/Python-3.7-main/lib/python3.7/site-packages/secretstorage/dhcrypto.py:16: CryptographyDeprecationWarning: int_from_bytes is deprecated, use int.from_bytes instead\n  from cryptography.utils import int_from_bytes\n/opt/conda/envs/Python-3.7-main/lib/python3.7/site-packages/secretstorage/util.py:25: CryptographyDeprecationWarning: int_from_bytes is deprecated, use int.from_bytes instead\n  from cryptography.utils import int_from_bytes\nCollecting yfinance\n  Downloading yfinance-0.1.59.tar.gz (25 kB)\nRequirement already satisfied: pandas>=0.24 in /opt/conda/envs/Python-3.7-main/lib/python3.7/site-packages (from yfinance) (1.0.5)\nRequirement already satisfied: numpy>=1.15 in /opt/conda/envs/Python-3.7-main/lib/python3.7/site-packages (from yfinance) (1.18.5)\nRequirement already satisfied: requests>=2.20 in /opt/conda/envs/Python-3.7-main/lib/python3.7/site-packages (from yfinance) (2.24.0)\nCollecting multitasking>=0.0.7\n  Downloading multitasking-0.0.9.tar.gz (8.1 kB)\nRequirement already satisfied: lxml>=4.5.1 in /opt/conda/envs/Python-3.7-main/lib/python3.7/site-packages (from yfinance) (4.5.1)\nRequirement already satisfied: pytz>=2017.2 in /opt/conda/envs/Python-3.7-main/lib/python3.7/site-packages (from pandas>=0.24->yfinance) (2020.1)\nRequirement already satisfied: python-dateutil>=2.6.1 in /opt/conda/envs/Python-3.7-main/lib/python3.7/site-packages (from pandas>=0.24->yfinance) (2.8.1)\nRequirement already satisfied: urllib3!=1.25.0,!=1.25.1,<1.26,>=1.21.1 in /opt/conda/envs/Python-3.7-main/lib/python3.7/site-packages (from requests>=2.20->yfinance) (1.25.9)\nRequirement already satisfied: chardet<4,>=3.0.2 in /opt/conda/envs/Python-3.7-main/lib/python3.7/site-packages (from requests>=2.20->yfinance) (3.0.4)\nRequirement already satisfied: certifi>=2017.4.17 in /opt/conda/envs/Python-3.7-main/lib/python3.7/site-packages (from requests>=2.20->yfinance) (2020.12.5)\nRequirement already satisfied: idna<3,>=2.5 in /opt/conda/envs/Python-3.7-main/lib/python3.7/site-packages (from requests>=2.20->yfinance) (2.9)\nRequirement already satisfied: six>=1.5 in /opt/conda/envs/Python-3.7-main/lib/python3.7/site-packages (from python-dateutil>=2.6.1->pandas>=0.24->yfinance) (1.15.0)\nBuilding wheels for collected packages: yfinance, multitasking\n  Building wheel for yfinance (setup.py) ... \u001b[?25ldone\n\u001b[?25h  Created wheel for yfinance: filename=yfinance-0.1.59-py2.py3-none-any.whl size=23442 sha256=e0955e90302530d1cf1bfe53a5dbb9084465c997290282b8729791d8e020490d\n  Stored in directory: /tmp/wsuser/.cache/pip/wheels/26/af/8b/fac1b47dffef567f945641cdc9b67bb25fae5725d462a8cf81\n  Building wheel for multitasking (setup.py) ... \u001b[?25ldone\n\u001b[?25h  Created wheel for multitasking: filename=multitasking-0.0.9-py3-none-any.whl size=8366 sha256=638efb2e35845938f81d03d60dbc3e1e023579f26db32862bc17485e168d70b3\n  Stored in directory: /tmp/wsuser/.cache/pip/wheels/ae/25/47/4d68431a7ec1b6c4b5233365934b74c1d4e665bf5f968d363a\nSuccessfully built yfinance multitasking\nInstalling collected packages: multitasking, yfinance\nSuccessfully installed multitasking-0.0.9 yfinance-0.1.59\n"
                }
            ],
            "source": "\n!pip install yfinance\n#!pip install pandas"
        },
        {
            "cell_type": "code",
            "execution_count": 2,
            "metadata": {},
            "outputs": [],
            "source": "import yfinance as yf\nimport pandas as pd"
        },
        {
            "cell_type": "markdown",
            "metadata": {},
            "source": "## Using the yfinance Library to Extract Stock Data\n"
        },
        {
            "cell_type": "markdown",
            "metadata": {},
            "source": "Using the `Ticker` module we can create an object that will allow us to access functions to extract data. To do this we need to provide the ticker symbol for the stock, here the company is Apple and the ticker symbol is `AAPL`.\n"
        },
        {
            "cell_type": "code",
            "execution_count": 5,
            "metadata": {},
            "outputs": [],
            "source": "apple = yf.Ticker(\"AAPL\")\n"
        },
        {
            "cell_type": "markdown",
            "metadata": {},
            "source": "Now we can access functions and variables to extract the type of data we need. You can view them and what they represent here [https://aroussi.com/post/python-yahoo-finance](https://aroussi.com/post/python-yahoo-finance?cm_mmc=Email_Newsletter-_-Developer_Ed%2BTech-_-WW_WW-_-SkillsNetwork-Courses-IBMDeveloperSkillsNetwork-PY0220EN-SkillsNetwork-23455606&cm_mmca1=000026UJ&cm_mmca2=10006555&cm_mmca3=M12345678&cvosrc=email.Newsletter.M12345678&cvo_campaign=000026UJ&cm_mmc=Email_Newsletter-_-Developer_Ed%2BTech-_-WW_WW-_-SkillsNetwork-Courses-IBMDeveloperSkillsNetwork-PY0220EN-SkillsNetwork-23455606&cm_mmca1=000026UJ&cm_mmca2=10006555&cm_mmca3=M12345678&cvosrc=email.Newsletter.M12345678&cvo_campaign=000026UJ).\n"
        },
        {
            "cell_type": "markdown",
            "metadata": {},
            "source": "### Stock Info\n"
        },
        {
            "cell_type": "markdown",
            "metadata": {},
            "source": "Using the attribute  <code>info</code> we can extract information about the stock as a Python dictionary.\n"
        },
        {
            "cell_type": "code",
            "execution_count": 6,
            "metadata": {},
            "outputs": [
                {
                    "data": {
                        "text/plain": "{'zip': '95014',\n 'sector': 'Technology',\n 'fullTimeEmployees': 147000,\n 'longBusinessSummary': 'Apple Inc. designs, manufactures, and markets smartphones, personal computers, tablets, wearables, and accessories worldwide. It also sells various related services. The company offers iPhone, a line of smartphones; Mac, a line of personal computers; iPad, a line of multi-purpose tablets; and wearables, home, and accessories comprising AirPods, Apple TV, Apple Watch, Beats products, HomePod, iPod touch, and other Apple-branded and third-party accessories. It also provides AppleCare support services; cloud services store services; and operates various platforms, including the App Store, that allow customers to discover and download applications and digital content, such as books, music, video, games, and podcasts. In addition, the company offers various services, such as Apple Arcade, a game subscription service; Apple Music, which offers users a curated listening experience with on-demand radio stations; Apple News+, a subscription news and magazine service; Apple TV+, which offers exclusive original content; Apple Card, a co-branded credit card; and Apple Pay, a cashless payment service, as well as licenses its intellectual property. The company serves consumers, and small and mid-sized businesses; and the education, enterprise, and government markets. It sells and delivers third-party applications for its products through the App Store. The company also sells its products through its retail and online stores, and direct sales force; and third-party cellular network carriers, wholesalers, retailers, and resellers. Apple Inc. was founded in 1977 and is headquartered in Cupertino, California.',\n 'city': 'Cupertino',\n 'phone': '408-996-1010',\n 'state': 'CA',\n 'country': 'United States',\n 'companyOfficers': [],\n 'website': 'http://www.apple.com',\n 'maxAge': 1,\n 'address1': 'One Apple Park Way',\n 'industry': 'Consumer Electronics',\n 'previousClose': 122.15,\n 'regularMarketOpen': 123.66,\n 'twoHundredDayAverage': 123.06101,\n 'trailingAnnualDividendYield': 0.006606631,\n 'payoutRatio': 0.2177,\n 'volume24Hr': None,\n 'regularMarketDayHigh': 124.18,\n 'navPrice': None,\n 'averageDailyVolume10Day': 94493600,\n 'totalAssets': None,\n 'regularMarketPreviousClose': 122.15,\n 'fiftyDayAverage': 124.017944,\n 'trailingAnnualDividendRate': 0.807,\n 'open': 123.66,\n 'toCurrency': None,\n 'averageVolume10days': 94493600,\n 'expireDate': None,\n 'yield': None,\n 'algorithm': None,\n 'dividendRate': 0.82,\n 'exDividendDate': 1612483200,\n 'beta': 1.251354,\n 'circulatingSupply': None,\n 'startDate': None,\n 'regularMarketDayLow': 122.49,\n 'priceHint': 2,\n 'currency': 'USD',\n 'trailingPE': 33.360455,\n 'regularMarketVolume': 75089134,\n 'lastMarket': None,\n 'maxSupply': None,\n 'openInterest': None,\n 'marketCap': 2064936337408,\n 'volumeAllCurrencies': None,\n 'strikePrice': None,\n 'averageVolume': 110144340,\n 'priceToSalesTrailing12Months': 7.020369,\n 'dayLow': 122.49,\n 'ask': 122.98,\n 'ytdReturn': None,\n 'askSize': 1400,\n 'volume': 75089134,\n 'fiftyTwoWeekHigh': 145.09,\n 'forwardPE': 26.226013,\n 'fromCurrency': None,\n 'fiveYearAvgDividendYield': 1.39,\n 'fiftyTwoWeekLow': 59.7425,\n 'bid': 123,\n 'tradeable': False,\n 'dividendYield': 0.0067000003,\n 'bidSize': 2900,\n 'dayHigh': 124.18,\n 'exchange': 'NMS',\n 'shortName': 'Apple Inc.',\n 'longName': 'Apple Inc.',\n 'exchangeTimezoneName': 'America/New_York',\n 'exchangeTimezoneShortName': 'EDT',\n 'isEsgPopulated': False,\n 'gmtOffSetMilliseconds': '-14400000',\n 'quoteType': 'EQUITY',\n 'symbol': 'AAPL',\n 'messageBoardId': 'finmb_24937',\n 'market': 'us_market',\n 'annualHoldingsTurnover': None,\n 'enterpriseToRevenue': 7.092,\n 'beta3Year': None,\n 'profitMargins': 0.21735,\n 'enterpriseToEbitda': 24.494,\n '52WeekChange': 1.0239427,\n 'morningStarRiskRating': None,\n 'forwardEps': 4.69,\n 'revenueQuarterlyGrowth': None,\n 'sharesOutstanding': 16788100096,\n 'fundInceptionDate': None,\n 'annualReportExpenseRatio': None,\n 'bookValue': 3.936,\n 'sharesShort': 107011007,\n 'sharesPercentSharesOut': 0.0064,\n 'fundFamily': None,\n 'lastFiscalYearEnd': 1601078400,\n 'heldPercentInstitutions': 0.59790003,\n 'netIncomeToCommon': 63929999360,\n 'trailingEps': 3.687,\n 'lastDividendValue': 0.205,\n 'SandP52WeekChange': 0.5964037,\n 'priceToBook': 31.25,\n 'heldPercentInsiders': 0.00075999997,\n 'nextFiscalYearEnd': 1664150400,\n 'mostRecentQuarter': 1608940800,\n 'shortRatio': 0.89,\n 'sharesShortPreviousMonthDate': 1613088000,\n 'floatShares': 16770804261,\n 'enterpriseValue': 2085882953728,\n 'threeYearAverageReturn': None,\n 'lastSplitDate': 1598832000,\n 'lastSplitFactor': '4:1',\n 'legalType': None,\n 'lastDividendDate': 1612483200,\n 'morningStarOverallRating': None,\n 'earningsQuarterlyGrowth': 0.293,\n 'dateShortInterest': 1615766400,\n 'pegRatio': 1.84,\n 'lastCapGain': None,\n 'shortPercentOfFloat': 0.0064,\n 'sharesShortPriorMonth': 88329668,\n 'impliedSharesOutstanding': None,\n 'category': None,\n 'fiveYearAverageReturn': None,\n 'regularMarketPrice': 123,\n 'logo_url': 'https://logo.clearbit.com/apple.com'}"
                    },
                    "execution_count": 6,
                    "metadata": {},
                    "output_type": "execute_result"
                }
            ],
            "source": "\napple_info=apple.info\napple_info"
        },
        {
            "cell_type": "markdown",
            "metadata": {},
            "source": "We can get the <code>'country'</code> using the key country\n"
        },
        {
            "cell_type": "code",
            "execution_count": 7,
            "metadata": {},
            "outputs": [
                {
                    "data": {
                        "text/plain": "'United States'"
                    },
                    "execution_count": 7,
                    "metadata": {},
                    "output_type": "execute_result"
                }
            ],
            "source": "apple_info['country']"
        },
        {
            "cell_type": "markdown",
            "metadata": {},
            "source": "### Extracting Share Price\n"
        },
        {
            "cell_type": "markdown",
            "metadata": {},
            "source": "A share is the single smallest part of a company's stock  that you can buy, the prices of these shares fluctuate over time. Using the <code>history()</code> method we can get the share price of the stock over a certain period of time. Using the `period` parameter we can set how far back from the present to get data. The options for `period` are 1 day (1d), 5d, 1 month (1mo) , 3mo, 6mo, 1 year (1y), 2y, 5y, 10y, ytd, and max.\n"
        },
        {
            "cell_type": "code",
            "execution_count": 10,
            "metadata": {},
            "outputs": [],
            "source": "\napple_share_price_data = apple.history(period=\"max\")"
        },
        {
            "cell_type": "markdown",
            "metadata": {},
            "source": "The format that the data is returned in is a Pandas DataFrame. With the `Date` as the index the share `Open`, `High`, `Low`, `Close`, `Volume`, and `Stock Splits` are given for each day.\n"
        },
        {
            "cell_type": "code",
            "execution_count": 11,
            "metadata": {},
            "outputs": [
                {
                    "data": {
                        "text/html": "<div>\n<style scoped>\n    .dataframe tbody tr th:only-of-type {\n        vertical-align: middle;\n    }\n\n    .dataframe tbody tr th {\n        vertical-align: top;\n    }\n\n    .dataframe thead th {\n        text-align: right;\n    }\n</style>\n<table border=\"1\" class=\"dataframe\">\n  <thead>\n    <tr style=\"text-align: right;\">\n      <th></th>\n      <th>Open</th>\n      <th>High</th>\n      <th>Low</th>\n      <th>Close</th>\n      <th>Volume</th>\n      <th>Dividends</th>\n      <th>Stock Splits</th>\n    </tr>\n    <tr>\n      <th>Date</th>\n      <th></th>\n      <th></th>\n      <th></th>\n      <th></th>\n      <th></th>\n      <th></th>\n      <th></th>\n    </tr>\n  </thead>\n  <tbody>\n    <tr>\n      <th>1980-12-12</th>\n      <td>0.100922</td>\n      <td>0.101361</td>\n      <td>0.100922</td>\n      <td>0.100922</td>\n      <td>469033600</td>\n      <td>0.0</td>\n      <td>0.0</td>\n    </tr>\n    <tr>\n      <th>1980-12-15</th>\n      <td>0.096096</td>\n      <td>0.096096</td>\n      <td>0.095657</td>\n      <td>0.095657</td>\n      <td>175884800</td>\n      <td>0.0</td>\n      <td>0.0</td>\n    </tr>\n    <tr>\n      <th>1980-12-16</th>\n      <td>0.089075</td>\n      <td>0.089075</td>\n      <td>0.088636</td>\n      <td>0.088636</td>\n      <td>105728000</td>\n      <td>0.0</td>\n      <td>0.0</td>\n    </tr>\n    <tr>\n      <th>1980-12-17</th>\n      <td>0.090830</td>\n      <td>0.091268</td>\n      <td>0.090830</td>\n      <td>0.090830</td>\n      <td>86441600</td>\n      <td>0.0</td>\n      <td>0.0</td>\n    </tr>\n    <tr>\n      <th>1980-12-18</th>\n      <td>0.093463</td>\n      <td>0.093902</td>\n      <td>0.093463</td>\n      <td>0.093463</td>\n      <td>73449600</td>\n      <td>0.0</td>\n      <td>0.0</td>\n    </tr>\n  </tbody>\n</table>\n</div>",
                        "text/plain": "                Open      High       Low     Close     Volume  Dividends  \\\nDate                                                                       \n1980-12-12  0.100922  0.101361  0.100922  0.100922  469033600        0.0   \n1980-12-15  0.096096  0.096096  0.095657  0.095657  175884800        0.0   \n1980-12-16  0.089075  0.089075  0.088636  0.088636  105728000        0.0   \n1980-12-17  0.090830  0.091268  0.090830  0.090830   86441600        0.0   \n1980-12-18  0.093463  0.093902  0.093463  0.093463   73449600        0.0   \n\n            Stock Splits  \nDate                      \n1980-12-12           0.0  \n1980-12-15           0.0  \n1980-12-16           0.0  \n1980-12-17           0.0  \n1980-12-18           0.0  "
                    },
                    "execution_count": 11,
                    "metadata": {},
                    "output_type": "execute_result"
                }
            ],
            "source": "apple_share_price_data.head()"
        },
        {
            "cell_type": "markdown",
            "metadata": {},
            "source": "We can reset the index of the DataFrame with the `reset_index` function. We also set the `inplace` paramter to `True` so the change takes place to the DataFrame itself.\n"
        },
        {
            "cell_type": "code",
            "execution_count": 14,
            "metadata": {},
            "outputs": [
                {
                    "data": {
                        "text/html": "<div>\n<style scoped>\n    .dataframe tbody tr th:only-of-type {\n        vertical-align: middle;\n    }\n\n    .dataframe tbody tr th {\n        vertical-align: top;\n    }\n\n    .dataframe thead th {\n        text-align: right;\n    }\n</style>\n<table border=\"1\" class=\"dataframe\">\n  <thead>\n    <tr style=\"text-align: right;\">\n      <th></th>\n      <th>level_0</th>\n      <th>index</th>\n      <th>Date</th>\n      <th>Open</th>\n      <th>High</th>\n      <th>Low</th>\n      <th>Close</th>\n      <th>Volume</th>\n      <th>Dividends</th>\n      <th>Stock Splits</th>\n    </tr>\n  </thead>\n  <tbody>\n    <tr>\n      <th>0</th>\n      <td>0</td>\n      <td>0</td>\n      <td>1980-12-12</td>\n      <td>0.100922</td>\n      <td>0.101361</td>\n      <td>0.100922</td>\n      <td>0.100922</td>\n      <td>469033600</td>\n      <td>0.0</td>\n      <td>0.0</td>\n    </tr>\n    <tr>\n      <th>1</th>\n      <td>1</td>\n      <td>1</td>\n      <td>1980-12-15</td>\n      <td>0.096096</td>\n      <td>0.096096</td>\n      <td>0.095657</td>\n      <td>0.095657</td>\n      <td>175884800</td>\n      <td>0.0</td>\n      <td>0.0</td>\n    </tr>\n    <tr>\n      <th>2</th>\n      <td>2</td>\n      <td>2</td>\n      <td>1980-12-16</td>\n      <td>0.089075</td>\n      <td>0.089075</td>\n      <td>0.088636</td>\n      <td>0.088636</td>\n      <td>105728000</td>\n      <td>0.0</td>\n      <td>0.0</td>\n    </tr>\n    <tr>\n      <th>3</th>\n      <td>3</td>\n      <td>3</td>\n      <td>1980-12-17</td>\n      <td>0.090830</td>\n      <td>0.091268</td>\n      <td>0.090830</td>\n      <td>0.090830</td>\n      <td>86441600</td>\n      <td>0.0</td>\n      <td>0.0</td>\n    </tr>\n    <tr>\n      <th>4</th>\n      <td>4</td>\n      <td>4</td>\n      <td>1980-12-18</td>\n      <td>0.093463</td>\n      <td>0.093902</td>\n      <td>0.093463</td>\n      <td>0.093463</td>\n      <td>73449600</td>\n      <td>0.0</td>\n      <td>0.0</td>\n    </tr>\n  </tbody>\n</table>\n</div>",
                        "text/plain": "   level_0  index       Date      Open      High       Low     Close  \\\n0        0      0 1980-12-12  0.100922  0.101361  0.100922  0.100922   \n1        1      1 1980-12-15  0.096096  0.096096  0.095657  0.095657   \n2        2      2 1980-12-16  0.089075  0.089075  0.088636  0.088636   \n3        3      3 1980-12-17  0.090830  0.091268  0.090830  0.090830   \n4        4      4 1980-12-18  0.093463  0.093902  0.093463  0.093463   \n\n      Volume  Dividends  Stock Splits  \n0  469033600        0.0           0.0  \n1  175884800        0.0           0.0  \n2  105728000        0.0           0.0  \n3   86441600        0.0           0.0  \n4   73449600        0.0           0.0  "
                    },
                    "execution_count": 14,
                    "metadata": {},
                    "output_type": "execute_result"
                }
            ],
            "source": "apple_share_price_data.reset_index(inplace=True)\napple_share_price_data.head()"
        },
        {
            "cell_type": "markdown",
            "metadata": {},
            "source": "We can plot the `Open` price against the `Date`:\n"
        },
        {
            "cell_type": "code",
            "execution_count": 15,
            "metadata": {},
            "outputs": [
                {
                    "data": {
                        "text/plain": "<matplotlib.axes._subplots.AxesSubplot at 0x7f35845e68d0>"
                    },
                    "execution_count": 15,
                    "metadata": {},
                    "output_type": "execute_result"
                },
                {
                    "data": {
                        "image/png": "[encoded data removed]",
                        "text/plain": "<Figure size 432x288 with 1 Axes>"
                    },
                    "metadata": {
                        "needs_background": "light"
                    },
                    "output_type": "display_data"
                }
            ],
            "source": "\napple_share_price_data.plot(x=\"Date\", y=\"Open\")"
        },
        {
            "cell_type": "markdown",
            "metadata": {},
            "source": "### Extracting Dividends\n"
        },
        {
            "cell_type": "markdown",
            "metadata": {},
            "source": "Dividends are the distribution of a companys profits to shareholders. In this case they are defined as an amount of money returned per share an investor owns. Using the variable `dividends` we can get a dataframe of the data. The period of the data is given by the period defined in the 'history` function.\n"
        },
        {
            "cell_type": "code",
            "execution_count": 16,
            "metadata": {},
            "outputs": [
                {
                    "data": {
                        "text/plain": "Date\n1987-05-11    0.000536\n1987-08-10    0.000536\n1987-11-17    0.000714\n1988-02-12    0.000714\n1988-05-16    0.000714\n                ...   \n2020-02-07    0.192500\n2020-05-08    0.205000\n2020-08-07    0.205000\n2020-11-06    0.205000\n2021-02-05    0.205000\nName: Dividends, Length: 70, dtype: float64"
                    },
                    "execution_count": 16,
                    "metadata": {},
                    "output_type": "execute_result"
                }
            ],
            "source": " \napple.dividends"
        },
        {
            "cell_type": "markdown",
            "metadata": {},
            "source": "We can plot the dividends overtime:\n"
        },
        {
            "cell_type": "code",
            "execution_count": 18,
            "metadata": {},
            "outputs": [
                {
                    "data": {
                        "text/plain": "<matplotlib.axes._subplots.AxesSubplot at 0x7f357fe10bd0>"
                    },
                    "execution_count": 18,
                    "metadata": {},
                    "output_type": "execute_result"
                },
                {
                    "data": {
                        "image/png": "[encoded data removed]",
                        "text/plain": "<Figure size 432x288 with 1 Axes>"
                    },
                    "metadata": {
                        "needs_background": "light"
                    },
                    "output_type": "display_data"
                }
            ],
            "source": "\napple.dividends.plot()"
        },
        {
            "cell_type": "markdown",
            "metadata": {},
            "source": "## Exercise\n"
        },
        {
            "cell_type": "markdown",
            "metadata": {},
            "source": "Now using the `Ticker` module create an object for AMD (Advanced Micro Devices) with the ticker symbol is `AMD` called; name the object <code>amd</code>.\n"
        },
        {
            "cell_type": "code",
            "execution_count": 21,
            "metadata": {},
            "outputs": [
                {
                    "data": {
                        "text/plain": "yfinance.Ticker object <AMD>"
                    },
                    "execution_count": 21,
                    "metadata": {},
                    "output_type": "execute_result"
                }
            ],
            "source": "amd = yf.Ticker('AMD')\namd\n"
        },
        {
            "cell_type": "markdown",
            "metadata": {},
            "source": "<b>Question 1</b> Use the key  <code>'country'</code> to find the country the stock belongs to, remember it as it will be a quiz question.\n"
        },
        {
            "cell_type": "code",
            "execution_count": 35,
            "metadata": {},
            "outputs": [
                {
                    "data": {
                        "text/plain": "'United States'"
                    },
                    "execution_count": 35,
                    "metadata": {},
                    "output_type": "execute_result"
                }
            ],
            "source": "amd_country = amd.info\namd_country['country']"
        },
        {
            "cell_type": "markdown",
            "metadata": {},
            "source": "<b>Question 2</b> Use the key  <code>'sector'</code> to find the sector the stock belongs to, remember it as it will be a quiz question.\n"
        },
        {
            "cell_type": "code",
            "execution_count": 38,
            "metadata": {},
            "outputs": [
                {
                    "data": {
                        "text/plain": "'Technology'"
                    },
                    "execution_count": 38,
                    "metadata": {},
                    "output_type": "execute_result"
                }
            ],
            "source": "amd_sector = amd.info['sector']\namd_sector\n"
        },
        {
            "cell_type": "markdown",
            "metadata": {},
            "source": "<b>Question 3</b> Find the max of the <code>Volume</code> column of AMD using the `history` function, set the <code>period</code> to max.\n"
        },
        {
            "cell_type": "code",
            "execution_count": 138,
            "metadata": {},
            "outputs": [
                {
                    "name": "stdout",
                    "output_type": "stream",
                    "text": "Volume    325058400\ndtype: int64   Volume    9696\ndtype: int64\n"
                },
                {
                    "data": {
                        "text/html": "<div>\n<style scoped>\n    .dataframe tbody tr th:only-of-type {\n        vertical-align: middle;\n    }\n\n    .dataframe tbody tr th {\n        vertical-align: top;\n    }\n\n    .dataframe thead th {\n        text-align: right;\n    }\n</style>\n<table border=\"1\" class=\"dataframe\">\n  <thead>\n    <tr style=\"text-align: right;\">\n      <th></th>\n      <th>Date</th>\n      <th>Volume</th>\n    </tr>\n  </thead>\n  <tbody>\n    <tr>\n      <th>9695</th>\n      <td>2018-08-24</td>\n      <td>164328200</td>\n    </tr>\n    <tr>\n      <th>9696</th>\n      <td>2018-08-27</td>\n      <td>325058400</td>\n    </tr>\n    <tr>\n      <th>9697</th>\n      <td>2018-08-28</td>\n      <td>215771200</td>\n    </tr>\n    <tr>\n      <th>9698</th>\n      <td>2018-08-29</td>\n      <td>143223200</td>\n    </tr>\n    <tr>\n      <th>9699</th>\n      <td>2018-08-30</td>\n      <td>103607300</td>\n    </tr>\n  </tbody>\n</table>\n</div>",
                        "text/plain": "           Date     Volume\n9695 2018-08-24  164328200\n9696 2018-08-27  325058400\n9697 2018-08-28  215771200\n9698 2018-08-29  143223200\n9699 2018-08-30  103607300"
                    },
                    "execution_count": 138,
                    "metadata": {},
                    "output_type": "execute_result"
                }
            ],
            "source": "amd_history = amd.history(period='max')\n#amd_history[['Volume']].max()\namd_history.reset_index (inplace=True)\nnew_amd_history= amd_history[['Date','Volume']]\nmaxvol = new_amd_history[['Volume']].max()\nidxmax = new_amd_history[['Volume']].idxmax()\nprint(maxvol, ' ', idxmax)\n\nnew_amd_history.iloc[9695:9700]\n"
        },
        {
            "cell_type": "markdown",
            "metadata": {},
            "source": " "
        }
    ],
    "metadata": {
        "kernelspec": {
            "display_name": "Python 3.7",
            "language": "python",
            "name": "python3"
        },
        "language_info": {
            "codemirror_mode": {
                "name": "ipython",
                "version": 3
            },
            "file_extension": ".py",
            "mimetype": "text/x-python",
            "name": "python",
            "nbconvert_exporter": "python",
            "pygments_lexer": "ipython3",
            "version": "3.7.10"
        }
    },
    "nbformat": 4,
    "nbformat_minor": 4
}